{
  "nbformat": 4,
  "nbformat_minor": 0,
  "metadata": {
    "colab": {
      "name": "Aula 5.ipynb",
      "provenance": [],
      "authorship_tag": "ABX9TyPUkOVlHsR6YPo8ouuGQ8/J",
      "include_colab_link": true
    },
    "kernelspec": {
      "name": "python3",
      "display_name": "Python 3"
    },
    "language_info": {
      "name": "python"
    }
  },
  "cells": [
    {
      "cell_type": "markdown",
      "metadata": {
        "id": "view-in-github",
        "colab_type": "text"
      },
      "source": [
        "<a href=\"https://colab.research.google.com/github/Felipe-Amorim-Cristovao/aula_bluee_tech/blob/main/Aula_5.ipynb\" target=\"_parent\"><img src=\"https://colab.research.google.com/assets/colab-badge.svg\" alt=\"Open In Colab\"/></a>"
      ]
    },
    {
      "cell_type": "code",
      "metadata": {
        "colab": {
          "base_uri": "https://localhost:8080/"
        },
        "id": "oPY4ycp39BM_",
        "outputId": "117f5352-ee9e-4351-e2bf-1982f8b080dc"
      },
      "source": [
        "numero = int(input('Digite seu numero'))\n",
        "if numero % 2 == 0:\n",
        "   print('Numero par')\n",
        "else:\n",
        "   print('Numero impar')\n"
      ],
      "execution_count": 10,
      "outputs": [
        {
          "output_type": "stream",
          "text": [
            "Digite seu numero50\n",
            "Numero par\n"
          ],
          "name": "stdout"
        }
      ]
    },
    {
      "cell_type": "code",
      "metadata": {
        "colab": {
          "base_uri": "https://localhost:8080/"
        },
        "id": "ZCf-zQfXKHvL",
        "outputId": "fc63ef71-fc07-48d0-9439-13e03e46c47c"
      },
      "source": [
        "valor = int(input('digite o valor: '))\n",
        "\n",
        "if  valor == 0:\n",
        "  print('numero invalido')\n",
        "else: \n",
        "  if valor > 0:\n",
        "    print('numero positivo')\n",
        "  else:\n",
        "    print('numero negativo')\n",
        "print('programa finalizado')\n"
      ],
      "execution_count": 15,
      "outputs": [
        {
          "output_type": "stream",
          "text": [
            "digite o valor: 60\n",
            "numero positivo\n",
            "programa finalizado\n"
          ],
          "name": "stdout"
        }
      ]
    },
    {
      "cell_type": "code",
      "metadata": {
        "id": "xwLqsQgXBOgy"
      },
      "source": [
        "\n",
        "Valor = int(input('Valor:'))\n",
        "if Valor > 0:\n",
        "   print('Valor positivo')\n",
        "else:\n",
        "   print('Valor negativo')\n",
        "   \n",
        "\n",
        "\n",
        "\n"
      ],
      "execution_count": null,
      "outputs": []
    },
    {
      "cell_type": "code",
      "metadata": {
        "colab": {
          "base_uri": "https://localhost:8080/"
        },
        "id": "fs8Y5qfbKmA-",
        "outputId": "9eea3ce8-60dc-4f06-83a7-6e98126b0143"
      },
      "source": [
        "v1 = float(input('digite um valor: '))\n",
        "v2 = float(input('digite um valor: '))\n",
        "if v1 == v2:\n",
        "  print('Numeros iguais')\n",
        "else:\n",
        "  if v1 > v2 : \n",
        "    print(v1)\n",
        "  else:\n",
        "    print(v2)\n",
        "    \n",
        "  \n",
        " \n",
        "  \n",
        "    \n",
        "\n"
      ],
      "execution_count": 19,
      "outputs": [
        {
          "output_type": "stream",
          "text": [
            "digite um valor: 5\n",
            "digite um valor: 7\n",
            "7.0\n"
          ],
          "name": "stdout"
        }
      ]
    },
    {
      "cell_type": "code",
      "metadata": {
        "id": "ASb-YzIyNJcr"
      },
      "source": [
        ""
      ],
      "execution_count": null,
      "outputs": []
    },
    {
      "cell_type": "code",
      "metadata": {
        "colab": {
          "base_uri": "https://localhost:8080/"
        },
        "id": "Vbv0UhKsKuya",
        "outputId": "f83f9257-5e0d-4d88-ca87-062d6cf49a5b"
      },
      "source": [
        "resposta = input('Digite M ou F').upper()\n",
        "if resposta == 'M':\n",
        "  print('Masculino')\n",
        "else:\n",
        "  if resposta == 'F':\n",
        "    print('Feminino')\n",
        "  else:\n",
        "    print('Você nao digitou as letras correta!')\n",
        "    \n"
      ],
      "execution_count": 20,
      "outputs": [
        {
          "output_type": "stream",
          "text": [
            "Digite M ou Ff\n",
            "Feminino\n"
          ],
          "name": "stdout"
        }
      ]
    },
    {
      "cell_type": "code",
      "metadata": {
        "colab": {
          "base_uri": "https://localhost:8080/"
        },
        "id": "bSlvVhQ5QBrr",
        "outputId": "e6a01c7a-b460-4465-f954-d052c2c78922"
      },
      "source": [
        "n1 = float(input('Digite a primeira nota:'))\n",
        "n2 = float(input('Digite a segunda nota:'))\n",
        "media = (n1 + n2) / 2\n",
        "\n",
        "if media >= 6:\n",
        "  print(f'Aluno aprovado com a média {media}')\n",
        "elif media >= 4 and media < 6:\n",
        "  print(f' Aluno está de recuperaçao com a média {media}')\n",
        "else:\n",
        "  print(f'Aluno reprovado com a média {media}')"
      ],
      "execution_count": 21,
      "outputs": [
        {
          "output_type": "stream",
          "text": [
            "Digite a primeira nota:5\n",
            "Digite a segunda nota:6\n",
            " Aluno está de recuperaçao com a média 5.5\n"
          ],
          "name": "stdout"
        }
      ]
    },
    {
      "cell_type": "code",
      "metadata": {
        "colab": {
          "base_uri": "https://localhost:8080/"
        },
        "id": "34OQMssQScgG",
        "outputId": "8e8d4294-a7e2-40db-9d58-fa41b05071f9"
      },
      "source": [
        "nota = float(input('Digite a nota do aluno(0.0,10.0):'))\n",
        "if nota < 6.00:\n",
        "  print('nota F')\n",
        "elif nota >= 6.00 and nota < 7.00:\n",
        "  print('nota D')\n",
        "elif nota >= 7.00 and nota < 8.00:\n",
        "  print('nota C')\n",
        "elif nota >= 8.00 and nota < 9.00:\n",
        "  print('nota B')\n",
        "elif nota >= 9.00 and nota <= 10.00:\n",
        "  print('nota A')\n",
        "\n"
      ],
      "execution_count": 28,
      "outputs": [
        {
          "output_type": "stream",
          "text": [
            "Digite a nota do aluno(0.00,10.00):8\n",
            "nota B\n"
          ],
          "name": "stdout"
        }
      ]
    },
    {
      "cell_type": "code",
      "metadata": {
        "id": "c311miReby9m"
      },
      "source": [
        ""
      ],
      "execution_count": null,
      "outputs": []
    },
    {
      "cell_type": "markdown",
      "metadata": {
        "id": "fdl06VWf9CBL"
      },
      "source": [
        ""
      ]
    }
  ]
}